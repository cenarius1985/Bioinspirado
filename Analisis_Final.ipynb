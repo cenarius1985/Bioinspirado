{
 "cells": [
  {
   "cell_type": "code",
   "execution_count": 86,
   "metadata": {},
   "outputs": [],
   "source": [
    "import cv2\n",
    "import numpy as np\n",
    "import pandas as pd\n",
    "import os\n",
    "\n",
    "# Define la ruta base donde se encuentran las imágenes\n",
    "ruta_base_imagenes = 'img/'\n",
    "archivo='Metrica_8_bits_9_dim_otsu.xlsx'\n",
    "#RSA_umbral\tHBA_umbral\tOPA_umbral\tBES_umbral\tGWO_umbral\tCSA_umbral\tHHO_umbral\tTSO_umbral\n",
    "# Nombre del algoritmo array\n",
    "Bioinspirado = ['RSA_umbral','HBA_umbral','OPA_umbral','BES_umbral','GWO_umbral','CSA_umbral','HHO_umbral','TSO_umbral']    \n",
    "\n",
    "algoritmo = Bioinspirado[7]  # Nombre del algoritmo\n",
    "\n",
    "# Cargar el archivo de Excel\n",
    "df = pd.read_excel(archivo, usecols=['Imagen', algoritmo])\n",
    "\n",
    "# Limpiar y extraer los nombres de las imágenes y los umbrales\n",
    "#df['Imagen'] = df['Imagen'].str.extract(r'\\]\\s*(.*)')  # Elimina el corchete y el número al principio\n",
    "umbrales = df[algoritmo].apply(lambda x: eval(x))  # Convierte el string de lista a una lista real\n",
    "\n",
    "# Función para aplicar los umbrales a la imagen\n",
    "def aplicar_umbrales(imagen, umbrales, semilla=42):\n",
    "    # Establecer la semilla para generar colores pseudoaleatorios\n",
    "    np.random.seed(semilla)\n",
    "    \n",
    "    # Suponiendo que la imagen está en escala de grises\n",
    "    imagen_color = cv2.cvtColor(imagen, cv2.COLOR_GRAY2BGR)\n",
    "    \n",
    "    for i, umbral in enumerate(umbrales):\n",
    "        _, img_umbral = cv2.threshold(imagen, umbral, 255, cv2.THRESH_BINARY)\n",
    "        # Generar un color único a partir de la semilla\n",
    "        color = tuple(np.random.randint(0, 255, 3).tolist())\n",
    "        imagen_color[img_umbral == 255] = color\n",
    "    \n",
    "    return imagen_color\n",
    "\n",
    "# Procesar cada imagen con sus umbrales\n",
    "for index, row in df.iterrows():\n",
    "    nombre_imagen = row['Imagen']\n",
    "    umbrales_img = umbrales[index]\n",
    "    ruta_completa = os.path.join(ruta_base_imagenes, nombre_imagen)\n",
    "    \n",
    "    # Cargar la imagen\n",
    "    imagen = cv2.imread(ruta_completa, cv2.IMREAD_GRAYSCALE)\n",
    "    if imagen is not None:\n",
    "        imagen_procesada = aplicar_umbrales(imagen, umbrales_img)\n",
    "        # Guardar o mostrar la imagen procesada\n",
    "        cv2.imwrite(f'destino/{nombre_imagen}', imagen_procesada)\n",
    "    else:\n",
    "        print(f\"No se pudo cargar la imagen: {nombre_imagen}\")\n"
   ]
  },
  {
   "cell_type": "code",
   "execution_count": 87,
   "metadata": {},
   "outputs": [
    {
     "data": {
      "text/plain": [
       "True"
      ]
     },
     "execution_count": 87,
     "metadata": {},
     "output_type": "execute_result"
    }
   ],
   "source": [
    "# Define la ruta base donde se guardaron las imágenes procesadas\n",
    "ruta_base_destino = 'destino/'\n",
    "\n",
    "# Cargar el archivo de Excel para obtener el orden de las imágenes\n",
    "df = pd.read_excel(archivo, usecols=['Imagen'])\n",
    "#df['Imagen'] = df['Imagen'].str.extract(r'\\]\\s*(.*)')  # Limpia los nombres de las imágenes\n",
    "\n",
    "# Lista para almacenar las imágenes cargadas\n",
    "imagenes = []\n",
    "\n",
    "# Tamaño objetivo para cada imagen (por ejemplo, el tamaño de la primera imagen)\n",
    "#imagen_referencia = cv2.imread(os.path.join(ruta_base_destino, df['Imagen'].iloc[0]))\n",
    "#altura_objetivo, ancho_objetivo = imagen_referencia.shape[:2]\n",
    "# una redimension de 100x100\n",
    "altura_objetivo, ancho_objetivo = 300, 300\n",
    "# Leer y redimensionar las imágenes en el orden correcto\n",
    "for nombre_imagen in df['Imagen']:\n",
    "    ruta_completa = os.path.join(ruta_base_destino, nombre_imagen)\n",
    "    imagen = cv2.imread(ruta_completa)\n",
    "    if imagen is not None:\n",
    "        # Redimensionar la imagen\n",
    "        imagen_redimensionada = cv2.resize(imagen, (ancho_objetivo, altura_objetivo))\n",
    "        imagenes.append(imagen_redimensionada)\n",
    "\n",
    "# Apilar todas las imágenes para formar una sola imagen de columna\n",
    "imagen_matriz = np.vstack(imagenes[:20])  # Asegúrate de tener al menos 20 imágenes\n",
    "\n",
    "# Guardar la imagen matriz\n",
    "cv2.imwrite('imagen_matriz.png', imagen_matriz)\n"
   ]
  }
 ],
 "metadata": {
  "kernelspec": {
   "display_name": "ML",
   "language": "python",
   "name": "python3"
  },
  "language_info": {
   "codemirror_mode": {
    "name": "ipython",
    "version": 3
   },
   "file_extension": ".py",
   "mimetype": "text/x-python",
   "name": "python",
   "nbconvert_exporter": "python",
   "pygments_lexer": "ipython3",
   "version": "3.11.3"
  }
 },
 "nbformat": 4,
 "nbformat_minor": 2
}
